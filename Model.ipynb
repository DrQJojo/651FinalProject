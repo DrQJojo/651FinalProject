{
 "cells": [
  {
   "cell_type": "code",
   "execution_count": 0,
   "metadata": {
    "application/vnd.databricks.v1+cell": {
     "cellMetadata": {
      "byteLimit": 2048000,
      "rowLimit": 10000
     },
     "inputWidgets": {},
     "nuid": "0a2292bc-ec1e-47b4-946e-13f446cf68f6",
     "showTitle": false,
     "title": ""
    }
   },
   "outputs": [],
   "source": [
    "import matplotlib.pyplot as plt\n",
    "import pyspark\n",
    "from pyspark.sql import SparkSession\n",
    "from pyspark.sql.functions import col,rand\n",
    "from pyspark.ml.feature import MinMaxScaler,PCA,VectorAssembler,PolynomialExpansion,StandardScaler\n",
    "from pyspark.ml import Pipeline\n",
    "from pyspark.ml.linalg import Vectors\n",
    "from pyspark.ml.regression import GBTRegressor,LinearRegression,RandomForestRegressor,GeneralizedLinearRegression,DecisionTreeRegressor\n",
    "from pyspark.ml.evaluation import RegressionEvaluator\n",
    "from pyspark.ml.tuning import ParamGridBuilder, CrossValidator\n",
    "from pyspark.ml.stat import Correlation"
   ]
  },
  {
   "cell_type": "code",
   "execution_count": 0,
   "metadata": {
    "application/vnd.databricks.v1+cell": {
     "cellMetadata": {
      "byteLimit": 2048000,
      "rowLimit": 10000
     },
     "inputWidgets": {},
     "nuid": "cca86e4a-c0db-4bc4-8341-99f65235bc71",
     "showTitle": false,
     "title": ""
    }
   },
   "outputs": [
    {
     "output_type": "execute_result",
     "data": {
      "text/html": [
       "\n",
       "            <div>\n",
       "                <p><b>SparkSession - hive</b></p>\n",
       "                \n",
       "        <div>\n",
       "            <p><b>SparkContext</b></p>\n",
       "\n",
       "            <p><a href=\"/?o=2761305647208968#setting/sparkui/1204-172247-9ohiygnz/driver-4489168545848164953\">Spark UI</a></p>\n",
       "\n",
       "            <dl>\n",
       "              <dt>Version</dt>\n",
       "                <dd><code>v3.5.0</code></dd>\n",
       "              <dt>Master</dt>\n",
       "                <dd><code>local[*, 4]</code></dd>\n",
       "              <dt>AppName</dt>\n",
       "                <dd><code>Databricks Shell</code></dd>\n",
       "            </dl>\n",
       "        </div>\n",
       "        \n",
       "            </div>\n",
       "        "
      ],
      "text/plain": [
       "<pyspark.sql.session.SparkSession at 0x7f64b2c0e830>"
      ]
     },
     "execution_count": 2,
     "metadata": {},
     "output_type": "execute_result"
    }
   ],
   "source": [
    "spark = SparkSession.builder.appName(\"model\") \\\n",
    "    .config(\"spark.executor.memory\", \"100g\") \\\n",
    "    .config(\"spark.driver.memory\", \"10g\") \\\n",
    "    .config(\"spark.executor.cores\", 16) \\\n",
    "    .config(\"spark.executor.instances\", 16) \\\n",
    "    .config(\"spark.dynamicAllocation.enabled\", \"true\") \\\n",
    "    .getOrCreate()\n",
    "spark"
   ]
  },
  {
   "cell_type": "code",
   "execution_count": 0,
   "metadata": {
    "application/vnd.databricks.v1+cell": {
     "cellMetadata": {
      "byteLimit": 2048000,
      "rowLimit": 10000
     },
     "inputWidgets": {},
     "nuid": "ac97783f-a3bf-4998-a5d1-0cb27c44a661",
     "showTitle": false,
     "title": ""
    }
   },
   "outputs": [
    {
     "output_type": "stream",
     "name": "stdout",
     "output_type": "stream",
     "text": [
      "+--------+----+-----+---+-------------------+-------------+---------------+----------+------------------+--------------+------------+------------------+----------------+---------------+------------------+-------------------+--------------+------------------+------------------+-------------+------------------+-----------------+------------------+\n|   price|year|month|day|propertyType_onehot|old/new_index|duration_onehot|PAON_index|       PAON_target|PAON_frequency|street_index|     street_target|street_frequency|town/city_index|  town/city_target|town/city_frequency|district_index|   district_target|district_frequency|country_index|    country_target|country_frequency|categoryType_index|\n+--------+----+-----+---+-------------------+-------------+---------------+----------+------------------+--------------+------------+------------------+----------------+---------------+------------------+-------------------+--------------+------------------+------------------+-------------+------------------+-----------------+------------------+\n| 31000.0|1998|    8| 10|      (4,[0],[1.0])|          0.0|  (2,[0],[1.0])|       7.0|215866.11126312442|         31430|    149131.0|           31000.0|               1|           20.0|107371.62093108955|               8141|          45.0| 97709.64575289575|              6216|         53.0| 97709.64575289575|             6216|               0.0|\n| 31500.0|2015|    9| 30|      (4,[0],[1.0])|          0.0|  (2,[0],[1.0])|       3.0|220235.11575642403|         36309|     56253.0|           60699.8|               5|          100.0|182498.80499015102|               3046|          21.0| 157561.6905374132|              7778|         44.0| 157561.6905374132|             7778|               1.0|\n| 50000.0|2016|    3| 17|      (4,[0],[1.0])|          0.0|  (2,[0],[1.0])|       5.0| 215621.6123487471|         33801|     56253.0|           60699.8|               5|          100.0|182498.80499015102|               3046|          21.0| 157561.6905374132|              7778|         44.0| 157561.6905374132|             7778|               1.0|\n|112999.0|2023|    4|  6|      (4,[1],[1.0])|          0.0|  (2,[0],[1.0])|       9.0| 212536.1945413503|         29238|     56253.0|           60699.8|               5|          100.0|182498.80499015102|               3046|          21.0| 157561.6905374132|              7778|         44.0| 157561.6905374132|             7778|               1.0|\n| 66000.0|2023|    2| 28|      (4,[1],[1.0])|          0.0|  (2,[0],[1.0])|       9.0| 212536.1945413503|         29238|     56253.0|           60699.8|               5|          100.0|182498.80499015102|               3046|          21.0| 157561.6905374132|              7778|         44.0| 157561.6905374132|             7778|               1.0|\n| 43000.0|2023|    2| 17|      (4,[0],[1.0])|          0.0|  (2,[0],[1.0])|       3.0|220235.11575642403|         36309|     56253.0|           60699.8|               5|          100.0|182498.80499015102|               3046|          21.0| 157561.6905374132|              7778|         44.0| 157561.6905374132|             7778|               1.0|\n| 58000.0|1995|    3| 31|      (4,[1],[1.0])|          0.0|  (2,[0],[1.0])|      13.0|206274.57175636213|         23970|        71.0|219435.16156462586|             588|           33.0|235296.21941386262|               6449|         411.0| 58947.49411764706|               170|         60.0|136367.57735849055|             5830|               0.0|\n|122000.0|1995|    7|  3|      (4,[2],[1.0])|          0.0|  (2,[0],[1.0])|       2.0|217667.52401538257|         37705|        71.0|219435.16156462586|             588|          825.0|  285229.406360424|                283|         134.0| 322766.3763066202|              4305|         14.0| 271427.4719485598|            26594|               0.0|\n| 45000.0|1995|   11| 21|      (4,[0],[1.0])|          0.0|  (2,[0],[1.0])|     110.0|208194.27022168963|          1669|        71.0|219435.16156462586|             588|           45.0|142350.78381027048|               5102|           7.0|142562.40266822476|             10269|          3.0|152388.91361544275|            58228|               0.0|\n| 52000.0|1995|    1| 18|      (4,[3],[1.0])|          0.0|  (2,[1],[1.0])|      15.0|  209593.335729045|         22262|        71.0|219435.16156462586|             588|           80.0|258959.76705539357|               3430|          48.0| 280796.6329830234|              6185|          0.0| 434273.0291257108|           193094|               0.0|\n| 43000.0|1995|    8| 31|      (4,[1],[1.0])|          0.0|  (2,[0],[1.0])|     133.0|197437.91283973758|          1067|        71.0|219435.16156462586|             588|          462.0|186077.51668726825|                809|         358.0|120403.53527607361|              1304|         39.0|134352.85264082573|             9107|               0.0|\n| 13536.0|1995|   11|  6|      (4,[3],[1.0])|          0.0|  (2,[1],[1.0])|     111.0|  202345.457472661|          1646|        71.0|219435.16156462586|             588|           13.0| 128404.7234086884|               9599|          42.0|113646.99735078697|              6417|         50.0|113646.99735078697|             6417|               0.0|\n|160000.0|1995|    9| 22|      (4,[1],[1.0])|          0.0|  (2,[0],[1.0])|     101.0|199401.09652706844|          1958|        71.0|219435.16156462586|             588|           79.0|112974.62634486769|               3439|         135.0|109948.58416763679|              4295|         79.0|109948.58416763679|             4295|               0.0|\n| 56200.0|1995|    6| 30|      (4,[0],[1.0])|          0.0|  (2,[0],[1.0])|       8.0|208887.42126166678|         30214|        71.0|219435.16156462586|             588|           76.0| 289195.8180531975|               3534|          13.0|279700.65034730005|              8926|          0.0| 434273.0291257108|           193094|               0.0|\n| 52500.0|1995|    2| 24|      (4,[1],[1.0])|          0.0|  (2,[0],[1.0])|      19.0|202569.31341161602|         18991|        71.0|219435.16156462586|             588|          147.0|170295.61297159814|               2359|         302.0| 161570.6409469531|              2281|         31.0|209804.57687032418|            16040|               0.0|\n| 34000.0|1995|    6| 30|      (4,[1],[1.0])|          0.0|  (2,[0],[1.0])|      19.0|202569.31341161602|         18991|        71.0|219435.16156462586|             588|          137.0| 132487.6885375494|               2530|         440.0|  40179.5918367347|                49|        118.0| 48324.97788125728|              859|               0.0|\n| 86000.0|1995|    2|  3|      (4,[3],[1.0])|          0.0|  (2,[1],[1.0])|     143.0|213901.05214368482|           863|        71.0|219435.16156462586|             588|            0.0|517537.89173413016|             115124|         111.0| 786135.5430505606|              4727|          0.0| 434273.0291257108|           193094|               0.0|\n| 30000.0|1995|   12|  1|      (4,[1],[1.0])|          0.0|  (2,[0],[1.0])|      41.0|207222.14731098988|          8981|        71.0|219435.16156462586|             588|          428.0|  200364.049255441|                873|         138.0|155117.66785629312|              4203|         17.0|158121.60345057584|            22489|               0.0|\n| 33000.0|1995|    6|  5|      (4,[3],[1.0])|          0.0|  (2,[1],[1.0])|      83.0|228836.74295774646|          2840|        71.0|219435.16156462586|             588|           79.0|112974.62634486769|               3439|         135.0|109948.58416763679|              4295|         79.0|109948.58416763679|             4295|               0.0|\n|106000.0|1995|    8| 16|      (4,[2],[1.0])|          0.0|  (2,[0],[1.0])|      73.0|213286.98611867175|          3674|        71.0|219435.16156462586|             588|          521.0|165848.60371959943|                699|         434.0| 51276.27450980392|                51|         99.0|157600.00595632032|             3022|               0.0|\n+--------+----+-----+---+-------------------+-------------+---------------+----------+------------------+--------------+------------+------------------+----------------+---------------+------------------+-------------------+--------------+------------------+------------------+-------------+------------------+-----------------+------------------+\nonly showing top 20 rows\n\n"
     ]
    }
   ],
   "source": [
    "path = r\"/FileStore/tables/data_preprocessed.parquet\"\n",
    "df = spark.read.parquet(path)\n",
    "df.show()"
   ]
  },
  {
   "cell_type": "code",
   "execution_count": 0,
   "metadata": {
    "application/vnd.databricks.v1+cell": {
     "cellMetadata": {
      "byteLimit": 2048000,
      "rowLimit": 10000
     },
     "inputWidgets": {},
     "nuid": "36c83a62-cb1d-4375-922f-8a7277b34ee4",
     "showTitle": false,
     "title": ""
    }
   },
   "outputs": [],
   "source": [
    "# train test split\n",
    "df_train, df_test = df.randomSplit([0.9,0.1], seed=123)"
   ]
  },
  {
   "cell_type": "code",
   "execution_count": 0,
   "metadata": {
    "application/vnd.databricks.v1+cell": {
     "cellMetadata": {
      "byteLimit": 2048000,
      "rowLimit": 10000
     },
     "inputWidgets": {},
     "nuid": "c4e5101a-f3eb-45ea-bae7-381358877329",
     "showTitle": false,
     "title": ""
    }
   },
   "outputs": [],
   "source": [
    "# normalize the data\n",
    "cols_normalization = df.columns\n",
    "cols_normalization.remove('price')\n",
    "\n",
    "# assemble the data\n",
    "vector_assembler = VectorAssembler(inputCols=cols_normalization, outputCol='features')\n",
    "# normalize the data\n",
    "scaler = StandardScaler(inputCol='features', outputCol='normalized_features', withStd=True, withMean=True)\n",
    "\n",
    "pipeline = Pipeline(stages=[vector_assembler, scaler]).fit(df_train)\n",
    "df_train_normalized = pipeline.transform(df_train)\n",
    "pipeline = Pipeline(stages=[vector_assembler, scaler]).fit(df_test)\n",
    "df_test_normalized = pipeline.transform(df_test)"
   ]
  },
  {
   "cell_type": "code",
   "execution_count": 0,
   "metadata": {
    "application/vnd.databricks.v1+cell": {
     "cellMetadata": {
      "byteLimit": 2048000,
      "rowLimit": 10000
     },
     "inputWidgets": {},
     "nuid": "ce78def0-1938-46d8-b922-80af6ec3e3f9",
     "showTitle": false,
     "title": ""
    }
   },
   "outputs": [
    {
     "output_type": "execute_result",
     "data": {
      "text/plain": [
       "(array([0.18819301, 0.08919733, 0.08469763, 0.06052186, 0.05449273,\n",
       "        0.05210558, 0.05084731, 0.04342856, 0.04053386, 0.03698966,\n",
       "        0.03578353, 0.03353135, 0.03225762, 0.0317014 , 0.02967015,\n",
       "        0.02875484, 0.02556534]),\n",
       " 0.9182717423630258)"
      ]
     },
     "execution_count": 9,
     "metadata": {},
     "output_type": "execute_result"
    }
   ],
   "source": [
    "pca = PCA(k=17,inputCol='normalized_features',outputCol='pca_features').fit(df_train_normalized)\n",
    "df_train_pca = pca.transform(df_train_normalized)\n",
    "explained_variance = pca.explainedVariance.toArray()\n",
    "explained_variance,explained_variance.sum()\n",
    "# the first 17 principal components out of 22 contain over 90% information"
   ]
  },
  {
   "cell_type": "code",
   "execution_count": 0,
   "metadata": {
    "application/vnd.databricks.v1+cell": {
     "cellMetadata": {
      "byteLimit": 2048000,
      "rowLimit": 10000
     },
     "inputWidgets": {},
     "nuid": "bc82f83e-7c4b-4d86-99d5-045c2ca409bc",
     "showTitle": false,
     "title": ""
    }
   },
   "outputs": [
    {
     "output_type": "execute_result",
     "data": {
      "text/plain": [
       "(array([0.18810856, 0.08972676, 0.08535389, 0.06237577, 0.05520278,\n",
       "        0.05234509, 0.05127277, 0.04556111, 0.04072001, 0.03695659,\n",
       "        0.03584839, 0.03336381, 0.03216601, 0.03122089, 0.02894134,\n",
       "        0.02562891, 0.02393203]),\n",
       " 0.9187247128486264)"
      ]
     },
     "execution_count": 10,
     "metadata": {},
     "output_type": "execute_result"
    }
   ],
   "source": [
    "pca = PCA(k=17,inputCol='normalized_features',outputCol='pca_features').fit(df_test_normalized)\n",
    "df_test_pca = pca.transform(df_test_normalized)\n",
    "explained_variance = pca.explainedVariance.toArray()\n",
    "explained_variance,explained_variance.sum()\n",
    "# the first 17 principal components out of 22 contain over 90% information"
   ]
  },
  {
   "cell_type": "code",
   "execution_count": 0,
   "metadata": {
    "application/vnd.databricks.v1+cell": {
     "cellMetadata": {
      "byteLimit": 2048000,
      "rowLimit": 10000
     },
     "inputWidgets": {},
     "nuid": "24f15d73-e4b4-4a20-9f5c-616e9bf860e2",
     "showTitle": false,
     "title": ""
    }
   },
   "outputs": [],
   "source": [
    "df_train_pca.write.parquet(r'/FileStore/tables/data_train_pca.parquet',mode=\"overwrite\")\n",
    "df_test_pca.write.parquet(r'/FileStore/tables/data_test_pca.parquet',mode=\"overwrite\")"
   ]
  },
  {
   "cell_type": "code",
   "execution_count": 0,
   "metadata": {
    "application/vnd.databricks.v1+cell": {
     "cellMetadata": {
      "byteLimit": 2048000,
      "rowLimit": 10000
     },
     "inputWidgets": {},
     "nuid": "1de0860d-b188-4c50-b3b8-2cd40bf733b8",
     "showTitle": false,
     "title": ""
    }
   },
   "outputs": [],
   "source": [
    "df_train_pca = spark.read.parquet(r'/FileStore/tables/data_train_pca.parquet')\n",
    "df_test_pca = spark.read.parquet(r'/FileStore/tables/data_test_pca.parquet')"
   ]
  },
  {
   "cell_type": "code",
   "execution_count": 0,
   "metadata": {
    "application/vnd.databricks.v1+cell": {
     "cellMetadata": {
      "byteLimit": 2048000,
      "rowLimit": 10000
     },
     "inputWidgets": {},
     "nuid": "741930d1-ae83-41b6-8582-b8689b86398f",
     "showTitle": false,
     "title": ""
    }
   },
   "outputs": [
    {
     "output_type": "stream",
     "name": "stdout",
     "output_type": "stream",
     "text": [
      "Train Root Mean Squared Error: 493851.4898890147\nTrain R Squared: 0.6808534259932697\nTest Root Mean Squared Error: 1349397.5874574592\nTest R Squared: -3.818364439279069\nBest Max Depth: 5\nBest Max Bins: 64\nBest Max Iterations: 100\n"
     ]
    }
   ],
   "source": [
    "# build a Gradient Boosting regressor, find the hyperparamters using grid search\n",
    "gbtr = GBTRegressor(featuresCol=\"pca_features\", labelCol=\"price\")\n",
    "pipeline = Pipeline(stages=[gbtr])\n",
    "\n",
    "param_grid = (ParamGridBuilder() \\\n",
    "              .addGrid(gbtr.maxDepth, [5]) \\\n",
    "              .addGrid(gbtr.maxBins, [64]) \\\n",
    "              .addGrid(gbtr.maxIter, [100]) \\\n",
    "              .build())\n",
    "evaluator = RegressionEvaluator(labelCol=\"price\", predictionCol=\"prediction\", metricName=\"mse\")\n",
    "# cross validataion\n",
    "cross_validator = CrossValidator(estimator=pipeline, \\\n",
    "                                estimatorParamMaps=param_grid, \\\n",
    "                                evaluator=evaluator, \\\n",
    "                                numFolds=3) \n",
    "\n",
    "cv_model = cross_validator.fit(df_train_pca)\n",
    "df_train_pred = cv_model.transform(df_train_pca)\n",
    "df_test_pred = cv_model.transform(df_test_pca)\n",
    "df_rmse = evaluator.evaluate(df_train_pred, {evaluator.metricName: \"rmse\"})\n",
    "df_r2 = evaluator.evaluate(df_train_pred, {evaluator.metricName: \"r2\"})\n",
    "print(f\"Train Root Mean Squared Error: {df_rmse}\")\n",
    "print(f\"Train R Squared: {df_r2}\")\n",
    "\n",
    "df_rmse = evaluator.evaluate(df_test_pred, {evaluator.metricName: \"rmse\"})\n",
    "df_r2 = evaluator.evaluate(df_test_pred, {evaluator.metricName: \"r2\"})\n",
    "print(f\"Test Root Mean Squared Error: {df_rmse}\")\n",
    "print(f\"Test R Squared: {df_r2}\")\n",
    "\n",
    "# Get the best model from the cross-validator\n",
    "best_gbtr = cv_model.bestModel\n",
    "print(\"Best Max Depth:\", best_gbtr.stages[-1].getMaxDepth())\n",
    "print(\"Best Max Bins:\", best_gbtr.stages[-1].getMaxBins())\n",
    "print(\"Best Max Iterations:\", best_gbtr.stages[-1].getMaxIter())"
   ]
  },
  {
   "cell_type": "code",
   "execution_count": 0,
   "metadata": {
    "application/vnd.databricks.v1+cell": {
     "cellMetadata": {
      "byteLimit": 2048000,
      "rowLimit": 10000
     },
     "inputWidgets": {},
     "nuid": "15f25d7b-78b1-4061-ae17-6d6cada8809f",
     "showTitle": false,
     "title": ""
    }
   },
   "outputs": [
    {
     "output_type": "stream",
     "name": "stdout",
     "output_type": "stream",
     "text": [
      "+--------------------+--------+------------------+\n|        pca_features|   price|        prediction|\n+--------------------+--------+------------------+\n|[2.33706181922505...| 15250.0|19336.800098973683|\n|[-2.1727021900695...| 86000.0|130273.03679550433|\n|[-0.0049376361103...| 45000.0| 57932.43084916571|\n|[0.07044625187204...| 20000.0|122277.17692150448|\n|[0.16472961856901...|235000.0| 223299.3144634328|\n|[0.80831803657633...|249950.0|242463.07377544144|\n|[2.50525030485581...| 92000.0|  75392.5545963743|\n|[0.16713696204551...|375000.0| 332251.2722124717|\n|[1.32628139380721...|120000.0| 88059.36654714942|\n|[1.08155441097422...|391500.0| 437926.7266181784|\n+--------------------+--------+------------------+\n\n"
     ]
    }
   ],
   "source": [
    "# randomly choose 10 samples from training dataset and test dataset to make prediction\n",
    "sampled_data = df_train_pca.orderBy(rand()).limit(10)\n",
    "predictions = best_gbtr.transform(sampled_data)\n",
    "predictions.select(\"pca_features\",\"price\", \"prediction\").show()"
   ]
  },
  {
   "cell_type": "code",
   "execution_count": 0,
   "metadata": {
    "application/vnd.databricks.v1+cell": {
     "cellMetadata": {
      "byteLimit": 2048000,
      "rowLimit": 10000
     },
     "inputWidgets": {},
     "nuid": "aa5d3efe-dd09-40eb-8daf-2a5b8dd8f014",
     "showTitle": false,
     "title": ""
    }
   },
   "outputs": [
    {
     "output_type": "stream",
     "name": "stdout",
     "output_type": "stream",
     "text": [
      "Train Root Mean Squared Error: 471571.75152378186\nTrain R Squared: 0.708999983546762\nTest Root Mean Squared Error: 476664.1322745305\nTest R Squared: 0.3987643367780349\nBest Max Depth: 9\nBest Max Bins: 64\nBest Number of Trees: 200\n"
     ]
    }
   ],
   "source": [
    "# build a Random Forest regressor, find the hyperparamters using grid search\n",
    "rfr = RandomForestRegressor(featuresCol=\"pca_features\", labelCol=\"price\")\n",
    "pipeline = Pipeline(stages=[rfr])\n",
    "\n",
    "param_grid = (ParamGridBuilder() \\\n",
    "              .addGrid(rfr.maxDepth, [9]) \\\n",
    "              .addGrid(rfr.maxBins, [64]) \\\n",
    "              .addGrid(rfr.numTrees, [200]) \\\n",
    "              .addGrid(rfr.subsamplingRate, [1]) \\\n",
    "              .build())\n",
    "evaluator = RegressionEvaluator(labelCol=\"price\", predictionCol=\"prediction\", metricName=\"mse\")\n",
    "# cross validataion\n",
    "cross_validator = CrossValidator(estimator=pipeline, \\\n",
    "                                estimatorParamMaps=param_grid, \\\n",
    "                                evaluator=evaluator, \\\n",
    "                                numFolds=3) \n",
    "\n",
    "cv_model = cross_validator.fit(df_train_pca)\n",
    "df_train_pred = cv_model.transform(df_train_pca)\n",
    "df_test_pred = cv_model.transform(df_test_pca)\n",
    "df_rmse = evaluator.evaluate(df_train_pred, {evaluator.metricName: \"rmse\"})\n",
    "df_r2 = evaluator.evaluate(df_train_pred, {evaluator.metricName: \"r2\"})\n",
    "print(f\"Train Root Mean Squared Error: {df_rmse}\")\n",
    "print(f\"Train R Squared: {df_r2}\")\n",
    "\n",
    "df_rmse = evaluator.evaluate(df_test_pred, {evaluator.metricName: \"rmse\"})\n",
    "df_r2 = evaluator.evaluate(df_test_pred, {evaluator.metricName: \"r2\"})\n",
    "print(f\"Test Root Mean Squared Error: {df_rmse}\")\n",
    "print(f\"Test R Squared: {df_r2}\")\n",
    "\n",
    "# Get the best model from the cross-validator\n",
    "best_rfr = cv_model.bestModel\n",
    "print(\"Best Max Depth:\", best_rfr.stages[-1].getMaxDepth())\n",
    "print(\"Best Max Bins:\", best_rfr.stages[-1].getMaxBins())\n",
    "print(\"Best Number of Trees:\", best_rfr.stages[-1].getNumTrees)"
   ]
  },
  {
   "cell_type": "code",
   "execution_count": 0,
   "metadata": {
    "application/vnd.databricks.v1+cell": {
     "cellMetadata": {
      "byteLimit": 2048000,
      "rowLimit": 10000
     },
     "inputWidgets": {},
     "nuid": "38619d42-c151-4217-a9bd-edc03a80e74f",
     "showTitle": false,
     "title": ""
    }
   },
   "outputs": [
    {
     "output_type": "stream",
     "name": "stdout",
     "output_type": "stream",
     "text": [
      "Train Root Mean Squared Error: 468162.2818000351\nTrain R Squared: 0.7131926396726731\nTest Root Mean Squared Error: 97768842.3381753\nTest R Squared: -25293.187402912303\n"
     ]
    }
   ],
   "source": [
    "# build a linear regression model, using polynomial expansion to increase the feature dimensions\n",
    "poly_expansion = PolynomialExpansion(inputCol='pca_features', outputCol='polynomial_features', degree=3)\n",
    "df_train_polyexpansion = poly_expansion.transform(df_train_pca)\n",
    "df_test_polyexpansion = poly_expansion.transform(df_test_pca)\n",
    "\n",
    "lr = GeneralizedLinearRegression(featuresCol='polynomial_features', labelCol='price',maxIter=100, regParam=0.1)\n",
    "pipeline = Pipeline(stages=[lr])\n",
    "param_grid = (ParamGridBuilder() \\\n",
    "              .build())\n",
    "evaluator = RegressionEvaluator(labelCol=\"price\", predictionCol=\"prediction\", metricName=\"mse\")\n",
    "# cross validataion\n",
    "cross_validator = CrossValidator(estimator=pipeline, \\\n",
    "                                estimatorParamMaps=param_grid, \\\n",
    "                                evaluator=evaluator, \\\n",
    "                                numFolds=3) \n",
    "\n",
    "cv_model = cross_validator.fit(df_train_polyexpansion)\n",
    "df_train_pred = cv_model.transform(df_train_polyexpansion)\n",
    "df_test_pred = cv_model.transform(df_test_polyexpansion)\n",
    "df_rmse = evaluator.evaluate(df_train_pred, {evaluator.metricName: \"rmse\"})\n",
    "df_r2 = evaluator.evaluate(df_train_pred, {evaluator.metricName: \"r2\"})\n",
    "print(f\"Train Root Mean Squared Error: {df_rmse}\")\n",
    "print(f\"Train R Squared: {df_r2}\")\n",
    "df_rmse = evaluator.evaluate(df_test_pred, {evaluator.metricName: \"rmse\"})\n",
    "df_r2 = evaluator.evaluate(df_test_pred, {evaluator.metricName: \"r2\"})\n",
    "print(f\"Test Root Mean Squared Error: {df_rmse}\")\n",
    "print(f\"Test R Squared: {df_r2}\")\n",
    "\n",
    "# Get the best model from the cross-validator\n",
    "best_lr = cv_model.bestModel"
   ]
  },
  {
   "cell_type": "code",
   "execution_count": 0,
   "metadata": {
    "application/vnd.databricks.v1+cell": {
     "cellMetadata": {
      "byteLimit": 2048000,
      "rowLimit": 10000
     },
     "inputWidgets": {},
     "nuid": "3848020c-cfb1-4448-b652-aba3b2715e01",
     "showTitle": false,
     "title": ""
    }
   },
   "outputs": [
    {
     "output_type": "stream",
     "name": "stdout",
     "output_type": "stream",
     "text": [
      "Train Root Mean Squared Error: 270733.64511588425\nTrain R Squared: 0.9040860203139902\nTest Root Mean Squared Error: 1538618.0088971492\nTest R Squared: -5.26442781169355\nBest Max Depth: 20\nBest Max Bins: 64\n"
     ]
    }
   ],
   "source": [
    "# build a Decision Tree regressor, find the hyperparamters using grid search\n",
    "dtr = DecisionTreeRegressor(featuresCol=\"pca_features\", labelCol=\"price\")\n",
    "pipeline = Pipeline(stages=[dtr])\n",
    "\n",
    "param_grid = (ParamGridBuilder() \\\n",
    "              .addGrid(dtr.maxDepth, [20]) \\\n",
    "              .addGrid(dtr.maxBins, [64]) \\\n",
    "              .build())\n",
    "evaluator = RegressionEvaluator(labelCol=\"price\", predictionCol=\"prediction\", metricName=\"mse\")\n",
    "# cross validataion\n",
    "cross_validator = CrossValidator(estimator=pipeline, \\\n",
    "                                estimatorParamMaps=param_grid, \\\n",
    "                                evaluator=evaluator, \\\n",
    "                                numFolds=3) \n",
    "\n",
    "cv_model = cross_validator.fit(df_train_pca)\n",
    "df_train_pred = cv_model.transform(df_train_pca)\n",
    "df_test_pred = cv_model.transform(df_test_pca)\n",
    "df_rmse = evaluator.evaluate(df_train_pred, {evaluator.metricName: \"rmse\"})\n",
    "df_r2 = evaluator.evaluate(df_train_pred, {evaluator.metricName: \"r2\"})\n",
    "print(f\"Train Root Mean Squared Error: {df_rmse}\")\n",
    "print(f\"Train R Squared: {df_r2}\")\n",
    "\n",
    "df_rmse = evaluator.evaluate(df_test_pred, {evaluator.metricName: \"rmse\"})\n",
    "df_r2 = evaluator.evaluate(df_test_pred, {evaluator.metricName: \"r2\"})\n",
    "print(f\"Test Root Mean Squared Error: {df_rmse}\")\n",
    "print(f\"Test R Squared: {df_r2}\")\n",
    "\n",
    "# Get the best model from the cross-validator\n",
    "best_dtr = cv_model.bestModel\n",
    "print(\"Best Max Depth:\", best_dtr.stages[-1].getMaxDepth())\n",
    "print(\"Best Max Bins:\", best_dtr.stages[-1].getMaxBins())"
   ]
  },
  {
   "cell_type": "code",
   "execution_count": 0,
   "metadata": {
    "application/vnd.databricks.v1+cell": {
     "cellMetadata": {
      "byteLimit": 2048000,
      "rowLimit": 10000
     },
     "inputWidgets": {},
     "nuid": "d028c90c-bf98-429c-9068-4ed0a3e967eb",
     "showTitle": false,
     "title": ""
    }
   },
   "outputs": [
    {
     "output_type": "execute_result",
     "data": {
      "text/plain": [
       "SparseVector(26, {0: 0.2415, 1: 0.0877, 2: 0.1147, 3: 0.0084, 4: 0.0016, 5: 0.0056, 6: 0.0109, 7: 0.0007, 8: 0.0108, 9: 0.0034, 10: 0.1, 11: 0.0319, 12: 0.0067, 13: 0.0599, 14: 0.0397, 15: 0.031, 16: 0.0145, 17: 0.021, 18: 0.0051, 19: 0.0415, 20: 0.0514, 21: 0.0188, 22: 0.0119, 23: 0.0327, 24: 0.0029, 25: 0.0458})"
      ]
     },
     "execution_count": 8,
     "metadata": {},
     "output_type": "execute_result"
    }
   ],
   "source": [
    "# using decision tree to find out the feature importances\n",
    "dtr = DecisionTreeRegressor(featuresCol=\"normalized_features\", labelCol=\"price\",maxDepth=20)\n",
    "dtr = dtr.fit(df_train_pca)\n",
    "dtr.featureImportances"
   ]
  }
 ],
 "metadata": {
  "application/vnd.databricks.v1+notebook": {
   "dashboards": [],
   "language": "python",
   "notebookMetadata": {
    "pythonIndentUnit": 4
   },
   "notebookName": "Model",
   "widgets": {}
  }
 },
 "nbformat": 4,
 "nbformat_minor": 0
}
